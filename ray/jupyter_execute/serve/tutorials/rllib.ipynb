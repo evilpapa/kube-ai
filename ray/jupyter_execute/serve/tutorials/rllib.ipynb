{
 "cells": [
  {
   "cell_type": "markdown",
   "id": "f569addb",
   "metadata": {},
   "source": [
    "(serve-rllib-tutorial)=\n",
    "\n",
    "# Serving RLlib Models\n",
    "\n",
    "In this guide, we will train and deploy a simple Ray RLlib model.\n",
    "In particular, we show:\n",
    "\n",
    "- How to train and store an RLlib model.\n",
    "- How to load this model from a checkpoint.\n",
    "- How to parse the JSON request and evaluate the payload in RLlib.\n",
    "\n",
    "```{margin}\n",
    "Check out the [Key Concepts](serve-key-concepts) page to learn more general information about Ray Serve.\n",
    "```\n",
    "\n",
    "We will train and checkpoint a simple PPO model with the `CartPole-v1` environment from `gymnasium`.\n",
    "In this tutorial we simply write to local disk, but in production you might want to consider using a cloud\n",
    "storage solution like S3 or a shared file system.\n",
    "\n",
    "Let's get started by defining a `PPO` instance, training it for one iteration and then creating a checkpoint:"
   ]
  },
  {
   "cell_type": "code",
   "execution_count": null,
   "id": "81b31153",
   "metadata": {
    "tags": [
     "remove-output"
    ]
   },
   "outputs": [],
   "source": [
    "import ray\n",
    "import ray.rllib.algorithms.ppo as ppo\n",
    "from ray import serve\n",
    "\n",
    "def train_ppo_model():\n",
    "    # Configure our PPO algorithm.\n",
    "    config = (\n",
    "        ppo.PPOConfig()\n",
    "        .environment(\"CartPole-v1\")\n",
    "        .framework(\"torch\")\n",
    "        .rollouts(num_rollout_workers=0)\n",
    "    )\n",
    "    # Create a `PPO` instance from the config.\n",
    "    algo = config.build()\n",
    "    # Train for one iteration.\n",
    "    algo.train()\n",
    "    # Save state of the trained Algorithm in a checkpoint.\n",
    "    checkpoint_dir = algo.save(\"/tmp/rllib_checkpoint\")\n",
    "    return checkpoint_dir\n",
    "\n",
    "\n",
    "checkpoint_path = train_ppo_model()"
   ]
  },
  {
   "cell_type": "markdown",
   "id": "4dc11de6",
   "metadata": {},
   "source": [
    "You create deployments with Ray Serve by using the `@serve.deployment` on a class that implements two methods:\n",
    "\n",
    "- The `__init__` call creates the deployment instance and loads your data once.\n",
    "  In the below example we restore our `PPO` Algorithm from the checkpoint we just created.\n",
    "- The `__call__` method will be invoked every request.\n",
    "  For each incoming request, this method has access to a `request` object,\n",
    "  which is a [Starlette Request](https://www.starlette.io/requests/).\n",
    "\n",
    "We can load the request body as a JSON object and, assuming there is a key called `observation`,\n",
    "in your deployment you can use `request.json()[\"observation\"]` to retrieve observations (`obs`) and\n",
    "pass them into the restored `Algorithm` using the `compute_single_action` method."
   ]
  },
  {
   "cell_type": "code",
   "execution_count": null,
   "id": "307dfb45",
   "metadata": {
    "tags": [
     "hide-output"
    ]
   },
   "outputs": [],
   "source": [
    "from starlette.requests import Request\n",
    "\n",
    "\n",
    "@serve.deployment\n",
    "class ServePPOModel:\n",
    "    def __init__(self, checkpoint_path) -> None:\n",
    "        # Re-create the originally used config.\n",
    "        config = ppo.PPOConfig()\\\n",
    "            .framework(\"torch\")\\\n",
    "            .rollouts(num_rollout_workers=0)\n",
    "        # Build the Algorithm instance using the config.\n",
    "        self.algorithm = config.build(env=\"CartPole-v1\")\n",
    "        # Restore the algo's state from the checkpoint.\n",
    "        self.algorithm.restore(checkpoint_path)\n",
    "\n",
    "    async def __call__(self, request: Request):\n",
    "        json_input = await request.json()\n",
    "        obs = json_input[\"observation\"]\n",
    "\n",
    "        action = self.algorithm.compute_single_action(obs)\n",
    "        return {\"action\": int(action)}"
   ]
  },
  {
   "cell_type": "markdown",
   "id": "28467631",
   "metadata": {},
   "source": [
    ":::{tip}\n",
    "Although we used a single input and `Algorithm.compute_single_action(...)` here, you\n",
    "can process a batch of input using Ray Serve's [batching](serve-performance-batching-requests) feature\n",
    "and use `Algorithm.compute_actions(...)` to process a batch of inputs.\n",
    ":::\n",
    "\n",
    "Now that we've defined our `ServePPOModel` service, let's deploy it to Ray Serve."
   ]
  },
  {
   "cell_type": "code",
   "execution_count": null,
   "id": "66589508",
   "metadata": {
    "tags": [
     "hide-output"
    ]
   },
   "outputs": [],
   "source": [
    "ppo_model = ServePPOModel.bind(checkpoint_path)\n",
    "serve.run(ppo_model)"
   ]
  },
  {
   "cell_type": "markdown",
   "id": "e9267183",
   "metadata": {},
   "source": [
    "Note that the `checkpoint_path` that we passed to the `bind()` method will be passed to\n",
    "the `__init__` method of the `ServePPOModel` class that we defined above.\n",
    "\n",
    "Now that the model is deployed, let's query it!"
   ]
  },
  {
   "cell_type": "code",
   "execution_count": null,
   "id": "6f000237",
   "metadata": {},
   "outputs": [],
   "source": [
    "# Note: `gymnasium` (not `gym`) will be **the** API supported by RLlib from Ray 2.3 on.\n",
    "try:\n",
    "    import gymnasium as gym\n",
    "    gymnasium = True\n",
    "except Exception:\n",
    "    import gym\n",
    "    gymnasium = False\n",
    "\n",
    "import requests\n",
    "\n",
    "\n",
    "env = gym.make(\"CartPole-v1\")\n",
    "\n",
    "for _ in range(5):\n",
    "    if gymnasium:\n",
    "        obs, infos = env.reset()\n",
    "    else:\n",
    "        obs = env.reset()\n",
    "\n",
    "    print(f\"-> Sending observation {obs}\")\n",
    "    resp = requests.get(\n",
    "        \"http://localhost:8000/\", json={\"observation\": obs.tolist()}\n",
    "    )\n",
    "    print(f\"<- Received response {resp.json()}\")"
   ]
  },
  {
   "cell_type": "markdown",
   "id": "7bd7bb2e",
   "metadata": {},
   "source": [
    "You should see output like this (`observation` values will differ):\n",
    "\n",
    "```text\n",
    "<- Received response {'action': 1}\n",
    "-> Sending observation [0.04228249 0.02289503 0.00690076 0.03095441]\n",
    "<- Received response {'action': 0}\n",
    "-> Sending observation [ 0.04819471 -0.04702759 -0.00477937 -0.00735569]\n",
    "<- Received response {'action': 0}\n",
    "```\n",
    "\n",
    "\n",
    ":::{note}\n",
    "In this example the client used the `requests` library to send a request to the server.\n",
    "We defined a `json` object with an `observation` key and a Python list of observations (`obs.tolist()`).\n",
    "Since `obs = env.reset()` is a `numpy.ndarray`, we used `tolist()` for conversion.\n",
    "On the server side, we used `obs = json_input[\"observation\"]` to retrieve the observations again, which has `list` type.\n",
    "In the simple case of an RLlib algorithm with a simple observation space, it's possible to pass this\n",
    "`obs` list to the `Algorithm.compute_single_action(...)` method.\n",
    "We could also have created a `numpy` array from it first and then passed it into the `Algorithm`.\n",
    "\n",
    "In more complex cases with tuple or dict observation spaces, you will have to do some preprocessing of\n",
    "your `json_input` before passing it to your `Algorithm` instance.\n",
    "The exact way to process your input depends on how you serialize your observations on the client.\n",
    ":::"
   ]
  },
  {
   "cell_type": "code",
   "execution_count": null,
   "id": "d8de17d4",
   "metadata": {
    "tags": [
     "remove-cell"
    ]
   },
   "outputs": [],
   "source": [
    "ray.shutdown()"
   ]
  }
 ],
 "metadata": {
  "jupytext": {
   "text_representation": {
    "extension": ".md",
    "format_name": "myst"
   }
  },
  "kernelspec": {
   "display_name": "Python 3",
   "language": "python",
   "name": "python3"
  },
  "source_map": [
   10,
   33,
   58,
   73,
   96,
   106,
   110,
   117,
   142,
   169
  ]
 },
 "nbformat": 4,
 "nbformat_minor": 5
}